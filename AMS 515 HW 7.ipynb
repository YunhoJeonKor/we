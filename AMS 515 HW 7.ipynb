{
 "cells": [
  {
   "cell_type": "code",
   "execution_count": 18,
   "id": "53861b22-1c1a-4144-afcf-4ef62c6d8428",
   "metadata": {
    "ExecuteTime": {
     "end_time": "2024-03-25T23:13:59.645567700Z",
     "start_time": "2024-03-25T23:13:59.592649Z"
    }
   },
   "outputs": [],
   "source": [
    "import os # not needed for Mac\n",
    "os.add_dll_directory('C:\\Aorda\\PSG\\lib') # not needed for Mac\n",
    "import psgpython as psg "
   ]
  },
  {
   "cell_type": "code",
   "execution_count": null,
   "id": "d2c7067cd28dd0ab",
   "metadata": {
    "collapsed": false
   },
   "outputs": [],
   "source": [
    "import pandas as pd\n",
    "\n",
    "Original= pd.read_csv('Yunho/directory/matrix_DTI_spl.txt', delim_whitespace=True)\n",
    "path = 'Yunho/directory/matrix_F3.txt'"
   ]
  },
  {
   "cell_type": "code",
   "execution_count": null,
   "outputs": [],
   "source": [
    "f3_df = pd.read_csv('Yunho/directory/matrix_DTI_spl.txt', delim_whitespace=True)\n",
    "dt1_df['x2'] = f3_df['x2']"
   ],
   "metadata": {
    "collapsed": false
   },
   "id": "6778d2282df5eec"
  },
  {
   "cell_type": "code",
   "execution_count": null,
   "outputs": [],
   "source": [
    "output_path = 'Yunho/directory/matrix_DTI_spl.txt'\n",
    "dt1_df.to_csv(output_path, sep='\\t', index=False)"
   ],
   "metadata": {
    "collapsed": false
   },
   "id": "7da070c7f020ec97"
  },
  {
   "cell_type": "code",
   "execution_count": null,
   "outputs": [],
   "source": [
    "import matplotlib.pyplot as plt\n",
    "from scipy.interpolate import CubicSpline\n",
    "import numpy as np\n",
    "import pandas as pd\n",
    "import seaborn as sns"
   ],
   "metadata": {
    "collapsed": false
   },
   "id": "8792ea8dd6f4e8a5"
  },
  {
   "cell_type": "code",
   "execution_count": 25,
   "id": "3d6e53357a14dfd0",
   "metadata": {
    "collapsed": false,
    "ExecuteTime": {
     "end_time": "2024-03-26T01:06:18.631697700Z",
     "start_time": "2024-03-26T01:05:51.661996900Z"
    }
   },
   "outputs": [
    {
     "name": "stdout",
     "output_type": "stream",
     "text": [
      "OK. Problem Imported\n",
      "\n",
      "Running solver\n",
      "Reading problem formulation\n",
      "Asking for data information\n",
      "Getting data\n",
      "    100.0% of scenarios is processed\n",
      "100% of matrix_parameters_5_pieces was read\n",
      "100% of matrix_dti_spl was read\n",
      "Start optimization\n",
      "Ext.iteration=0  Objective=-.693147180565E+00  Residual=0.000000000000E+00\n",
      "Ext.iteration=23  Objective=-.352086483239E+00  Residual=0.000000000000E+00\n",
      "Ext.iteration=45  Objective=-.346202204681E+00  Residual=0.000000000000E+00\n",
      "Ext.iteration=68  Objective=-.345994989222E+00  Residual=0.000000000000E+00\n",
      "Ext.iteration=90  Objective=-.345943031397E+00  Residual=0.000000000000E+00\n",
      "Ext.iteration=112  Objective=-.345842361770E+00  Residual=0.000000000000E+00\n",
      "Ext.iteration=134  Objective=-.345783872998E+00  Residual=0.000000000000E+00\n",
      "Ext.iteration=156  Objective=-.345710229656E+00  Residual=0.000000000000E+00\n",
      "Ext.iteration=178  Objective=-.345702262285E+00  Residual=0.000000000000E+00\n",
      "Ext.iteration=200  Objective=-.345701893040E+00  Residual=0.000000000000E+00\n",
      "Ext.iteration=222  Objective=-.345701774779E+00  Residual=0.000000000000E+00\n",
      "Ext.iteration=244  Objective=-.345701763339E+00  Residual=0.000000000000E+00\n",
      "Ext.iteration=264  Objective=-.345701763141E+00  Residual=0.000000000000E+00\n",
      "Optimization is stopped\n",
      "Solution is optimal\n",
      "Calculating resulting outputs. Writing solution.\n",
      "Objective: objective = -0.345701763141 [2.267466214789E-10]\n",
      "Solver has normally finished. Solution was saved.\n",
      "Problem: problem_1, solution_status = optimal\n",
      "Timing: data_loading_time = 0.06, preprocessing_time = 0.79, solving_time = 24.83\n",
      "Variables: optimal_point = point_problem_1\n",
      "Objective: objective = -0.345701763141 [2.267466214789E-10]\n",
      "Constraint: constraint_for_smoothing_spline = -1.509903313490E-13 [ 1.509903313490E-13]\n",
      "Function: logexp_sum(spline_sum(matrix_parameters_5_pieces,matrix_dti_spl)) = -3.457017631415E-01\n",
      "Reading problem formulation\n",
      "Asking for data information\n",
      "Getting data\n",
      "100% of matrix_parameters_5_pieces was read\n",
      "100% of matrix_dti_spl was read\n",
      "Warning: 0 Object: Matrix\tMessage: Matrix matrix_dti_spl_knots. Coupling of the Object. It will be replaced\n",
      "Warning: 0 Object: Matrix\tMessage: Matrix matrix_dti_spl_quant. Coupling of the Object. It will be replaced\n",
      "Start calculation\n",
      "Ext.iteration=0  Objective=0.000000000000E+00  Residual=0.000000000000E+00\n",
      "Calculation was stopped\n",
      "Point is calculated\n",
      "Calculating resulting outputs. Writing solution.\n",
      "Objective: objective = 0.00000000000\n",
      "Solver has normally finished. Solution was saved.\n",
      "Problem: problem_2, solution_status = calculated\n",
      "Timing: data_loading_time = 0.05, preprocessing_time = 0.52, solving_time = 0.06\n",
      "Variables: optimal_point = point_problem_2\n",
      "Objective: objective = 0.00000000000\n",
      "Function: logistic(spline_sum(matrix_parameters_5_pieces,matrix_dti_spl)) = vector_logistic\n",
      "OK. Solution Filled\n"
     ]
    },
    {
     "ename": "SystemError",
     "evalue": "<built-in function psg_solver> returned NULL without setting an exception",
     "output_type": "error",
     "traceback": [
      "\u001B[1;31m---------------------------------------------------------------------------\u001B[0m",
      "\u001B[1;31mSystemError\u001B[0m                               Traceback (most recent call last)",
      "Cell \u001B[1;32mIn[25], line 6\u001B[0m\n\u001B[0;32m      4\u001B[0m path_from_import \u001B[38;5;241m=\u001B[39m \u001B[38;5;124m\"\u001B[39m\u001B[38;5;124m./HW7/PB1/problem_1_DTI_2012.txt\u001B[39m\u001B[38;5;124m\"\u001B[39m \u001B[38;5;66;03m# specify a path to the file which name starts with problem (not smth else)\u001B[39;00m\n\u001B[0;32m      5\u001B[0m problem_dictionary \u001B[38;5;241m=\u001B[39m psg\u001B[38;5;241m.\u001B[39mpsg_importfromtext(path_from_import, suppressMessages) \u001B[38;5;66;03m# the result is a dictionary # it has its own print function here \u001B[39;00m\n\u001B[1;32m----> 6\u001B[0m res \u001B[38;5;241m=\u001B[39m \u001B[43mpsg\u001B[49m\u001B[38;5;241;43m.\u001B[39;49m\u001B[43mpsg_solver\u001B[49m\u001B[43m(\u001B[49m\u001B[43mproblem_dictionary\u001B[49m\u001B[43m,\u001B[49m\u001B[43m \u001B[49m\u001B[43mallowExternal\u001B[49m\u001B[43m,\u001B[49m\u001B[43m \u001B[49m\u001B[43msuppressMessages\u001B[49m\u001B[43m)\u001B[49m \u001B[38;5;66;03m# the result is also a dictionary\u001B[39;00m\n",
      "\u001B[1;31mSystemError\u001B[0m: <built-in function psg_solver> returned NULL without setting an exception"
     ]
    }
   ],
   "source": [
    "# Import the problem\n",
    "allowExternal = True\n",
    "suppressMessages = False ##This means that OK problem imported should be resulted in\n",
    "path_from_import = \"Yunho/directory/problem_1_DTI_2012.txt\" # specify a path to the file which name starts with problem (not smth else)\n",
    "problem_dictionary = psg.psg_importfromtext(path_from_import, suppressMessages) # the result is a dictionary # it has its own print function here \n",
    "res = psg.psg_solver(problem_dictionary, allowExternal, suppressMessages) # the result is also a dictionary"
   ]
  },
  {
   "cell_type": "markdown",
   "id": "73308405-7ec5-4550-8fb2-94c421f31cfd",
   "metadata": {
    "ExecuteTime": {
     "end_time": "2024-03-25T02:23:49.244976500Z",
     "start_time": "2024-03-25T02:23:46.666927600Z"
    },
    "collapsed": false
   },
   "source": []
  },
  {
   "cell_type": "code",
   "execution_count": 5,
   "outputs": [],
   "source": [
    "vector_logistic_path = '/Users/yunhojeon/Downloads/vector_logistic.txt'\n",
    "vector_logistic_df = pd.read_csv(vector_logistic_path)\n",
    "vector_logistic_df.columns = vector_logistic_df.columns.str.strip()"
   ],
   "metadata": {
    "collapsed": false,
    "ExecuteTime": {
     "end_time": "2024-03-26T02:02:52.600615Z",
     "start_time": "2024-03-26T02:02:52.557615Z"
    }
   },
   "id": "57900305907ee443"
  },
  {
   "cell_type": "code",
   "execution_count": 7,
   "outputs": [
    {
     "name": "stderr",
     "output_type": "stream",
     "text": [
      "/Users/yunhojeon/anaconda3/lib/python3.11/site-packages/seaborn/_oldcore.py:1119: FutureWarning: use_inf_as_na option is deprecated and will be removed in a future version. Convert inf values to NaN before operating instead.\n",
      "  with pd.option_context('mode.use_inf_as_na', True):\n"
     ]
    },
    {
     "data": {
      "text/plain": "<Figure size 640x480 with 1 Axes>",
      "image/png": "[encoded data removed]"
     },
     "metadata": {},
     "output_type": "display_data"
    }
   ],
   "source": [
    "sns.kdeplot(vector_logistic_df['Value'])\n",
    "plt.title('KDE of Vector Logistic Values')\n",
    "plt.xlabel('Values')\n",
    "plt.ylabel('Density of logistic distribution')\n",
    "plt.show() "
   ],
   "metadata": {
    "collapsed": false,
    "ExecuteTime": {
     "end_time": "2024-03-26T02:03:13.366665Z",
     "start_time": "2024-03-26T02:03:12.748629Z"
    }
   },
   "id": "a0fe029c9269fff8"
  }
 ],
 "metadata": {
  "kernelspec": {
   "display_name": "Python 3 (ipykernel)",
   "language": "python",
   "name": "python3"
  },
  "language_info": {
   "codemirror_mode": {
    "name": "ipython",
    "version": 3
   },
   "file_extension": ".py",
   "mimetype": "text/x-python",
   "name": "python",
   "nbconvert_exporter": "python",
   "pygments_lexer": "ipython3",
   "version": "3.11.1"
  }
 },
 "nbformat": 4,
 "nbformat_minor": 5
}
